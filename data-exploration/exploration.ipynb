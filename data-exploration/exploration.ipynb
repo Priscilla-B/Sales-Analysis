{
 "cells": [
  {
   "cell_type": "code",
   "execution_count": 54,
   "metadata": {},
   "outputs": [],
   "source": [
    "import numpy as np\n",
    "import pandas as pd\n",
    "import calendar"
   ]
  },
  {
   "cell_type": "code",
   "execution_count": 55,
   "metadata": {},
   "outputs": [
    {
     "data": {
      "text/html": [
       "<div>\n",
       "<style scoped>\n",
       "    .dataframe tbody tr th:only-of-type {\n",
       "        vertical-align: middle;\n",
       "    }\n",
       "\n",
       "    .dataframe tbody tr th {\n",
       "        vertical-align: top;\n",
       "    }\n",
       "\n",
       "    .dataframe thead th {\n",
       "        text-align: right;\n",
       "    }\n",
       "</style>\n",
       "<table border=\"1\" class=\"dataframe\">\n",
       "  <thead>\n",
       "    <tr style=\"text-align: right;\">\n",
       "      <th></th>\n",
       "      <th>Row ID</th>\n",
       "      <th>Order ID</th>\n",
       "      <th>Order Date</th>\n",
       "      <th>Delivery Date</th>\n",
       "      <th>Delivery Mode</th>\n",
       "      <th>Customer ID</th>\n",
       "      <th>Customer Name</th>\n",
       "      <th>Customer Segment</th>\n",
       "      <th>City</th>\n",
       "      <th>Country</th>\n",
       "      <th>Region</th>\n",
       "      <th>Product ID</th>\n",
       "      <th>Product Category</th>\n",
       "      <th>Sub-Category</th>\n",
       "      <th>Product Name</th>\n",
       "      <th>Unit cost</th>\n",
       "      <th>Quantity</th>\n",
       "      <th>Selling price</th>\n",
       "      <th>Discount</th>\n",
       "    </tr>\n",
       "  </thead>\n",
       "  <tbody>\n",
       "    <tr>\n",
       "      <th>301</th>\n",
       "      <td>303</td>\n",
       "      <td>OrdID-2018-0003031</td>\n",
       "      <td>2018-12-11</td>\n",
       "      <td>2018-12-13</td>\n",
       "      <td>Pick up</td>\n",
       "      <td>CustID- 397</td>\n",
       "      <td>Godred Gyimah</td>\n",
       "      <td>Corporate</td>\n",
       "      <td>Ashaiman</td>\n",
       "      <td>Ghana</td>\n",
       "      <td>Greater Accra</td>\n",
       "      <td>ProdID-28001161</td>\n",
       "      <td>Electronics</td>\n",
       "      <td>Television</td>\n",
       "      <td>Samsung UN32J4001 32-Inch J4001-Series 720p HD...</td>\n",
       "      <td>3940</td>\n",
       "      <td>1</td>\n",
       "      <td>5674</td>\n",
       "      <td>0.000000</td>\n",
       "    </tr>\n",
       "    <tr>\n",
       "      <th>521</th>\n",
       "      <td>523</td>\n",
       "      <td>OrdID-2019-0005231</td>\n",
       "      <td>2019-08-13</td>\n",
       "      <td>2019-08-15</td>\n",
       "      <td>Pick up</td>\n",
       "      <td>CustID- 245</td>\n",
       "      <td>Tetteyfio Akuyoo</td>\n",
       "      <td>Corporate</td>\n",
       "      <td>Dzodze</td>\n",
       "      <td>Ghana</td>\n",
       "      <td>Volta</td>\n",
       "      <td>ProdID-28000761</td>\n",
       "      <td>Phone_Tablets</td>\n",
       "      <td>Telephones_Accessories</td>\n",
       "      <td>Panasonic Genuine HHR-4DPA/4B AAA NiMH Recharg...</td>\n",
       "      <td>380</td>\n",
       "      <td>17</td>\n",
       "      <td>483</td>\n",
       "      <td>0.140000</td>\n",
       "    </tr>\n",
       "    <tr>\n",
       "      <th>31</th>\n",
       "      <td>32</td>\n",
       "      <td>OrdID-2018-0000321</td>\n",
       "      <td>2018-01-26</td>\n",
       "      <td>2018-01-28</td>\n",
       "      <td>2-3 Day</td>\n",
       "      <td>CustID- 525</td>\n",
       "      <td>Peter Ankoma</td>\n",
       "      <td>Consumer</td>\n",
       "      <td>Axim</td>\n",
       "      <td>Ghana</td>\n",
       "      <td>Western</td>\n",
       "      <td>ProdID-28000321</td>\n",
       "      <td>Phone_Tablets</td>\n",
       "      <td>Laptop_Desktop accessories</td>\n",
       "      <td>Logitech C270 HD Computer Webcam Drive-Free wi...</td>\n",
       "      <td>638</td>\n",
       "      <td>5</td>\n",
       "      <td>850</td>\n",
       "      <td>0.002189</td>\n",
       "    </tr>\n",
       "    <tr>\n",
       "      <th>563</th>\n",
       "      <td>565</td>\n",
       "      <td>OrdID-2019-0005651</td>\n",
       "      <td>2019-09-24</td>\n",
       "      <td>2019-09-27</td>\n",
       "      <td>2-3 Day</td>\n",
       "      <td>CustID- 334</td>\n",
       "      <td>Elikem Kobla</td>\n",
       "      <td>Consumer</td>\n",
       "      <td>Effiduase</td>\n",
       "      <td>Ghana</td>\n",
       "      <td>Ashanti</td>\n",
       "      <td>ProdID-28000111</td>\n",
       "      <td>Electronics</td>\n",
       "      <td>Accessories_Supplies</td>\n",
       "      <td>TV One 1RK-5RU-PSU 5RU 250w Power supply and a...</td>\n",
       "      <td>591</td>\n",
       "      <td>16</td>\n",
       "      <td>798</td>\n",
       "      <td>0.082766</td>\n",
       "    </tr>\n",
       "    <tr>\n",
       "      <th>220</th>\n",
       "      <td>222</td>\n",
       "      <td>OrdID-2018-0002221</td>\n",
       "      <td>2018-09-04</td>\n",
       "      <td>2018-09-06</td>\n",
       "      <td>2-3 Day</td>\n",
       "      <td>CustID- 372</td>\n",
       "      <td>Antwi Frimpong</td>\n",
       "      <td>Corporate</td>\n",
       "      <td>Akatsi</td>\n",
       "      <td>Ghana</td>\n",
       "      <td>Volta</td>\n",
       "      <td>ProdID-28000801</td>\n",
       "      <td>Home_Office</td>\n",
       "      <td>Home_Kitchen</td>\n",
       "      <td>Plastic Storage Bowl Set - 17 Pieces Green</td>\n",
       "      <td>1007</td>\n",
       "      <td>8</td>\n",
       "      <td>1310</td>\n",
       "      <td>0.078913</td>\n",
       "    </tr>\n",
       "  </tbody>\n",
       "</table>\n",
       "</div>"
      ],
      "text/plain": [
       "     Row ID            Order ID Order Date Delivery Date Delivery Mode  \\\n",
       "301     303  OrdID-2018-0003031 2018-12-11    2018-12-13       Pick up   \n",
       "521     523  OrdID-2019-0005231 2019-08-13    2019-08-15       Pick up   \n",
       "31       32  OrdID-2018-0000321 2018-01-26    2018-01-28       2-3 Day   \n",
       "563     565  OrdID-2019-0005651 2019-09-24    2019-09-27       2-3 Day   \n",
       "220     222  OrdID-2018-0002221 2018-09-04    2018-09-06       2-3 Day   \n",
       "\n",
       "     Customer ID     Customer Name Customer Segment       City Country  \\\n",
       "301  CustID- 397     Godred Gyimah        Corporate  Ashaiman    Ghana   \n",
       "521  CustID- 245  Tetteyfio Akuyoo        Corporate     Dzodze   Ghana   \n",
       "31   CustID- 525      Peter Ankoma         Consumer       Axim   Ghana   \n",
       "563  CustID- 334      Elikem Kobla         Consumer  Effiduase   Ghana   \n",
       "220  CustID- 372    Antwi Frimpong        Corporate     Akatsi   Ghana   \n",
       "\n",
       "            Region       Product ID Product Category  \\\n",
       "301  Greater Accra  ProdID-28001161      Electronics   \n",
       "521          Volta  ProdID-28000761    Phone_Tablets   \n",
       "31         Western  ProdID-28000321    Phone_Tablets   \n",
       "563        Ashanti  ProdID-28000111      Electronics   \n",
       "220          Volta  ProdID-28000801      Home_Office   \n",
       "\n",
       "                   Sub-Category  \\\n",
       "301                  Television   \n",
       "521      Telephones_Accessories   \n",
       "31   Laptop_Desktop accessories   \n",
       "563        Accessories_Supplies   \n",
       "220                Home_Kitchen   \n",
       "\n",
       "                                          Product Name  Unit cost  Quantity  \\\n",
       "301  Samsung UN32J4001 32-Inch J4001-Series 720p HD...       3940         1   \n",
       "521  Panasonic Genuine HHR-4DPA/4B AAA NiMH Recharg...        380        17   \n",
       "31   Logitech C270 HD Computer Webcam Drive-Free wi...        638         5   \n",
       "563  TV One 1RK-5RU-PSU 5RU 250w Power supply and a...        591        16   \n",
       "220         Plastic Storage Bowl Set - 17 Pieces Green       1007         8   \n",
       "\n",
       "     Selling price  Discount  \n",
       "301           5674  0.000000  \n",
       "521            483  0.140000  \n",
       "31             850  0.002189  \n",
       "563            798  0.082766  \n",
       "220           1310  0.078913  "
      ]
     },
     "execution_count": 55,
     "metadata": {},
     "output_type": "execute_result"
    }
   ],
   "source": [
    "df = pd.read_excel(\"../data/denormalized-data.xlsx\")\n",
    "df.sample(5)"
   ]
  },
  {
   "cell_type": "code",
   "execution_count": 56,
   "metadata": {},
   "outputs": [
    {
     "data": {
      "text/plain": [
       "6998937"
      ]
     },
     "execution_count": 56,
     "metadata": {},
     "output_type": "execute_result"
    }
   ],
   "source": [
    "df[\"Revenue\"] = df[\"Quantity\"] * df[\"Selling price\"]\n",
    "df[\"Revenue\"].sum()"
   ]
  },
  {
   "cell_type": "code",
   "execution_count": 57,
   "metadata": {},
   "outputs": [
    {
     "data": {
      "text/plain": [
       "5270143"
      ]
     },
     "execution_count": 57,
     "metadata": {},
     "output_type": "execute_result"
    }
   ],
   "source": [
    "df[\"Cost\"] = df[\"Quantity\"] * df[\"Unit cost\"]\n",
    "df[\"Cost\"].sum()"
   ]
  },
  {
   "cell_type": "code",
   "execution_count": 58,
   "metadata": {},
   "outputs": [
    {
     "data": {
      "text/plain": [
       "1728794"
      ]
     },
     "execution_count": 58,
     "metadata": {},
     "output_type": "execute_result"
    }
   ],
   "source": [
    "df[\"Profit\"] = df[\"Revenue\"] - df[\"Cost\"]\n",
    "df[\"Profit\"].sum()"
   ]
  },
  {
   "cell_type": "code",
   "execution_count": 59,
   "metadata": {},
   "outputs": [
    {
     "data": {
      "text/plain": [
       "0.24729130544498248"
      ]
     },
     "execution_count": 59,
     "metadata": {},
     "output_type": "execute_result"
    }
   ],
   "source": [
    "df[\"Profit Margin\"] = df[\"Profit\"]/df[\"Revenue\"]\n",
    "df[\"Profit Margin\"].mean()"
   ]
  },
  {
   "cell_type": "code",
   "execution_count": 60,
   "metadata": {},
   "outputs": [
    {
     "data": {
      "text/html": [
       "<div>\n",
       "<style scoped>\n",
       "    .dataframe tbody tr th:only-of-type {\n",
       "        vertical-align: middle;\n",
       "    }\n",
       "\n",
       "    .dataframe tbody tr th {\n",
       "        vertical-align: top;\n",
       "    }\n",
       "\n",
       "    .dataframe thead th {\n",
       "        text-align: right;\n",
       "    }\n",
       "</style>\n",
       "<table border=\"1\" class=\"dataframe\">\n",
       "  <thead>\n",
       "    <tr style=\"text-align: right;\">\n",
       "      <th></th>\n",
       "      <th>Order Date</th>\n",
       "      <th>Revenue</th>\n",
       "      <th>Cost</th>\n",
       "      <th>Profit</th>\n",
       "      <th>Profit Margin</th>\n",
       "    </tr>\n",
       "  </thead>\n",
       "  <tbody>\n",
       "    <tr>\n",
       "      <th>0</th>\n",
       "      <td>Jan</td>\n",
       "      <td>506145.0</td>\n",
       "      <td>376940.0</td>\n",
       "      <td>129205.0</td>\n",
       "      <td>0.255273</td>\n",
       "    </tr>\n",
       "    <tr>\n",
       "      <th>1</th>\n",
       "      <td>Feb</td>\n",
       "      <td>306517.0</td>\n",
       "      <td>230723.0</td>\n",
       "      <td>75794.0</td>\n",
       "      <td>0.247275</td>\n",
       "    </tr>\n",
       "    <tr>\n",
       "      <th>2</th>\n",
       "      <td>Mar</td>\n",
       "      <td>767026.0</td>\n",
       "      <td>560592.0</td>\n",
       "      <td>206434.0</td>\n",
       "      <td>0.269136</td>\n",
       "    </tr>\n",
       "    <tr>\n",
       "      <th>3</th>\n",
       "      <td>Apr</td>\n",
       "      <td>796906.0</td>\n",
       "      <td>597874.0</td>\n",
       "      <td>199032.0</td>\n",
       "      <td>0.249756</td>\n",
       "    </tr>\n",
       "    <tr>\n",
       "      <th>4</th>\n",
       "      <td>May</td>\n",
       "      <td>570425.0</td>\n",
       "      <td>437312.0</td>\n",
       "      <td>133113.0</td>\n",
       "      <td>0.233358</td>\n",
       "    </tr>\n",
       "    <tr>\n",
       "      <th>5</th>\n",
       "      <td>Jun</td>\n",
       "      <td>298017.0</td>\n",
       "      <td>233627.0</td>\n",
       "      <td>64390.0</td>\n",
       "      <td>0.216061</td>\n",
       "    </tr>\n",
       "    <tr>\n",
       "      <th>6</th>\n",
       "      <td>Jul</td>\n",
       "      <td>682283.0</td>\n",
       "      <td>508509.0</td>\n",
       "      <td>173774.0</td>\n",
       "      <td>0.254695</td>\n",
       "    </tr>\n",
       "    <tr>\n",
       "      <th>7</th>\n",
       "      <td>Aug</td>\n",
       "      <td>496796.0</td>\n",
       "      <td>377420.0</td>\n",
       "      <td>119376.0</td>\n",
       "      <td>0.240292</td>\n",
       "    </tr>\n",
       "    <tr>\n",
       "      <th>8</th>\n",
       "      <td>Sep</td>\n",
       "      <td>668480.0</td>\n",
       "      <td>518723.0</td>\n",
       "      <td>149757.0</td>\n",
       "      <td>0.224026</td>\n",
       "    </tr>\n",
       "    <tr>\n",
       "      <th>9</th>\n",
       "      <td>Oct</td>\n",
       "      <td>682572.0</td>\n",
       "      <td>511566.0</td>\n",
       "      <td>171006.0</td>\n",
       "      <td>0.250532</td>\n",
       "    </tr>\n",
       "    <tr>\n",
       "      <th>10</th>\n",
       "      <td>Nov</td>\n",
       "      <td>591107.0</td>\n",
       "      <td>445823.0</td>\n",
       "      <td>145284.0</td>\n",
       "      <td>0.245783</td>\n",
       "    </tr>\n",
       "    <tr>\n",
       "      <th>11</th>\n",
       "      <td>Dec</td>\n",
       "      <td>632663.0</td>\n",
       "      <td>471034.0</td>\n",
       "      <td>161629.0</td>\n",
       "      <td>0.255474</td>\n",
       "    </tr>\n",
       "  </tbody>\n",
       "</table>\n",
       "</div>"
      ],
      "text/plain": [
       "   Order Date   Revenue      Cost    Profit  Profit Margin\n",
       "0         Jan  506145.0  376940.0  129205.0       0.255273\n",
       "1         Feb  306517.0  230723.0   75794.0       0.247275\n",
       "2         Mar  767026.0  560592.0  206434.0       0.269136\n",
       "3         Apr  796906.0  597874.0  199032.0       0.249756\n",
       "4         May  570425.0  437312.0  133113.0       0.233358\n",
       "5         Jun  298017.0  233627.0   64390.0       0.216061\n",
       "6         Jul  682283.0  508509.0  173774.0       0.254695\n",
       "7         Aug  496796.0  377420.0  119376.0       0.240292\n",
       "8         Sep  668480.0  518723.0  149757.0       0.224026\n",
       "9         Oct  682572.0  511566.0  171006.0       0.250532\n",
       "10        Nov  591107.0  445823.0  145284.0       0.245783\n",
       "11        Dec  632663.0  471034.0  161629.0       0.255474"
      ]
     },
     "execution_count": 60,
     "metadata": {},
     "output_type": "execute_result"
    }
   ],
   "source": [
    "months = df[\"Order Date\"].dt.month\n",
    "try:\n",
    "    months = months.apply(lambda x: calendar.month_abbr[x])\n",
    "except(TypeError):\n",
    "    months = months\n",
    "# trend_df = df.groupby([months]).agg(\n",
    "    # {\"Revenue\":\"sum\", \"Cost\":\"sum\", \"Profit\":'sum', \"Profit Margin\":'mean'})\n",
    "order = calendar.month_abbr\n",
    "trend_df = df.groupby([months])[[\"Revenue\", \"Cost\", \"Profit\"]].sum()\n",
    "trend_df[\"Profit Margin\"] = trend_df[\"Profit\"]/trend_df[\"Revenue\"]\n",
    "trend_df = trend_df.reindex(order, axis=0)\n",
    "trend_df.dropna(inplace=True)\n",
    "trend_df = trend_df.reset_index()\n",
    "\n",
    "\n",
    "trend_df"
   ]
  },
  {
   "cell_type": "code",
   "execution_count": 61,
   "metadata": {},
   "outputs": [
    {
     "data": {
      "text/html": [
       "<div>\n",
       "<style scoped>\n",
       "    .dataframe tbody tr th:only-of-type {\n",
       "        vertical-align: middle;\n",
       "    }\n",
       "\n",
       "    .dataframe tbody tr th {\n",
       "        vertical-align: top;\n",
       "    }\n",
       "\n",
       "    .dataframe thead th {\n",
       "        text-align: right;\n",
       "    }\n",
       "</style>\n",
       "<table border=\"1\" class=\"dataframe\">\n",
       "  <thead>\n",
       "    <tr style=\"text-align: right;\">\n",
       "      <th></th>\n",
       "      <th>Region</th>\n",
       "      <th>Profit</th>\n",
       "    </tr>\n",
       "  </thead>\n",
       "  <tbody>\n",
       "    <tr>\n",
       "      <th>0</th>\n",
       "      <td>Northern</td>\n",
       "      <td>400787</td>\n",
       "    </tr>\n",
       "    <tr>\n",
       "      <th>1</th>\n",
       "      <td>Ashanti</td>\n",
       "      <td>245647</td>\n",
       "    </tr>\n",
       "    <tr>\n",
       "      <th>2</th>\n",
       "      <td>Greater Accra</td>\n",
       "      <td>208897</td>\n",
       "    </tr>\n",
       "    <tr>\n",
       "      <th>3</th>\n",
       "      <td>Volta</td>\n",
       "      <td>184245</td>\n",
       "    </tr>\n",
       "    <tr>\n",
       "      <th>4</th>\n",
       "      <td>Western</td>\n",
       "      <td>183871</td>\n",
       "    </tr>\n",
       "    <tr>\n",
       "      <th>5</th>\n",
       "      <td>Central</td>\n",
       "      <td>112227</td>\n",
       "    </tr>\n",
       "    <tr>\n",
       "      <th>6</th>\n",
       "      <td>Upper West</td>\n",
       "      <td>111352</td>\n",
       "    </tr>\n",
       "    <tr>\n",
       "      <th>7</th>\n",
       "      <td>Upper East</td>\n",
       "      <td>104895</td>\n",
       "    </tr>\n",
       "    <tr>\n",
       "      <th>8</th>\n",
       "      <td>Eastern</td>\n",
       "      <td>91101</td>\n",
       "    </tr>\n",
       "    <tr>\n",
       "      <th>9</th>\n",
       "      <td>Brong Ahafo</td>\n",
       "      <td>85772</td>\n",
       "    </tr>\n",
       "  </tbody>\n",
       "</table>\n",
       "</div>"
      ],
      "text/plain": [
       "          Region  Profit\n",
       "0       Northern  400787\n",
       "1        Ashanti  245647\n",
       "2  Greater Accra  208897\n",
       "3          Volta  184245\n",
       "4        Western  183871\n",
       "5        Central  112227\n",
       "6     Upper West  111352\n",
       "7     Upper East  104895\n",
       "8        Eastern   91101\n",
       "9    Brong Ahafo   85772"
      ]
     },
     "execution_count": 61,
     "metadata": {},
     "output_type": "execute_result"
    }
   ],
   "source": [
    "regions_df = df.groupby('Region')[\"Profit\"].sum().sort_values(ascending=False)\n",
    "regions_df = regions_df.reset_index()\n",
    "regions_df[\"Region\"] = regions_df[\"Region\"].str.replace(\"Brong-Ahafo\", \"Brong Ahafo\")\n",
    "regions_df\n"
   ]
  },
  {
   "cell_type": "code",
   "execution_count": 62,
   "metadata": {},
   "outputs": [],
   "source": [
    "sub_category_df = df.groupby('Sub-Category')[[\"Revenue\", \"Cost\", \"Profit\"]].sum().sort_values(by=\"Revenue\",ascending=False)\n",
    "sub_category_df[\"PM Tracker\"] = sub_category_df[\"Profit\"]/sub_category_df[\"Revenue\"]\n",
    "sub_category_df.drop(\"Profit\",axis=1, inplace=True)\n",
    "sub_category_df.loc['Grand Total'] = sub_category_df[[\"Revenue\", \"Cost\"]].sum()\n",
    "sub_category_df[\"PM Tracker\"].loc['Grand Total'] = sub_category_df[\"PM Tracker\"].mean()\n",
    "sub_category_df = sub_category_df.reset_index()\n",
    "\n",
    "#sub_category_df"
   ]
  },
  {
   "cell_type": "code",
   "execution_count": 63,
   "metadata": {},
   "outputs": [],
   "source": [
    "sub_category_df[\"Revenue\"] = sub_category_df[\"Revenue\"].apply(lambda x: \"{:,.1f}k\".format((x/1000)))\n",
    "sub_category_df[\"Cost\"] = sub_category_df[\"Cost\"].apply(lambda x: \"{:,.1f}k\".format((x/1000)))\n",
    "#sub_category_df"
   ]
  },
  {
   "cell_type": "code",
   "execution_count": 64,
   "metadata": {},
   "outputs": [
    {
     "data": {
      "text/html": [
       "<div>\n",
       "<style scoped>\n",
       "    .dataframe tbody tr th:only-of-type {\n",
       "        vertical-align: middle;\n",
       "    }\n",
       "\n",
       "    .dataframe tbody tr th {\n",
       "        vertical-align: top;\n",
       "    }\n",
       "\n",
       "    .dataframe thead th {\n",
       "        text-align: right;\n",
       "    }\n",
       "</style>\n",
       "<table border=\"1\" class=\"dataframe\">\n",
       "  <thead>\n",
       "    <tr style=\"text-align: right;\">\n",
       "      <th></th>\n",
       "      <th>Sub-Category</th>\n",
       "      <th>Revenue</th>\n",
       "      <th>Cost</th>\n",
       "      <th>PM Tracker</th>\n",
       "    </tr>\n",
       "  </thead>\n",
       "  <tbody>\n",
       "    <tr>\n",
       "      <th>0</th>\n",
       "      <td>Television</td>\n",
       "      <td>2,001.3k</td>\n",
       "      <td>1,539.0k</td>\n",
       "      <td>🟡</td>\n",
       "    </tr>\n",
       "    <tr>\n",
       "      <th>1</th>\n",
       "      <td>Mobile Phones</td>\n",
       "      <td>1,224.4k</td>\n",
       "      <td>913.6k</td>\n",
       "      <td>🟢</td>\n",
       "    </tr>\n",
       "    <tr>\n",
       "      <th>2</th>\n",
       "      <td>Telephones_Accessories</td>\n",
       "      <td>894.7k</td>\n",
       "      <td>679.3k</td>\n",
       "      <td>🟡</td>\n",
       "    </tr>\n",
       "    <tr>\n",
       "      <th>3</th>\n",
       "      <td>Home_Kitchen</td>\n",
       "      <td>887.2k</td>\n",
       "      <td>662.9k</td>\n",
       "      <td>🟢</td>\n",
       "    </tr>\n",
       "    <tr>\n",
       "      <th>4</th>\n",
       "      <td>Accessories_Supplies</td>\n",
       "      <td>471.8k</td>\n",
       "      <td>340.5k</td>\n",
       "      <td>🟢</td>\n",
       "    </tr>\n",
       "    <tr>\n",
       "      <th>5</th>\n",
       "      <td>Laptop_Desktop accessories</td>\n",
       "      <td>441.1k</td>\n",
       "      <td>328.1k</td>\n",
       "      <td>🟢</td>\n",
       "    </tr>\n",
       "    <tr>\n",
       "      <th>6</th>\n",
       "      <td>Wearable Technology</td>\n",
       "      <td>253.0k</td>\n",
       "      <td>191.6k</td>\n",
       "      <td>🟡</td>\n",
       "    </tr>\n",
       "    <tr>\n",
       "      <th>7</th>\n",
       "      <td>Home Audio</td>\n",
       "      <td>218.4k</td>\n",
       "      <td>159.7k</td>\n",
       "      <td>🟢</td>\n",
       "    </tr>\n",
       "    <tr>\n",
       "      <th>8</th>\n",
       "      <td>Furniture</td>\n",
       "      <td>182.9k</td>\n",
       "      <td>136.4k</td>\n",
       "      <td>🟢</td>\n",
       "    </tr>\n",
       "    <tr>\n",
       "      <th>9</th>\n",
       "      <td>Headphones</td>\n",
       "      <td>178.3k</td>\n",
       "      <td>131.8k</td>\n",
       "      <td>🟢</td>\n",
       "    </tr>\n",
       "    <tr>\n",
       "      <th>10</th>\n",
       "      <td>Radios_Transceivers</td>\n",
       "      <td>156.4k</td>\n",
       "      <td>115.8k</td>\n",
       "      <td>🟢</td>\n",
       "    </tr>\n",
       "    <tr>\n",
       "      <th>11</th>\n",
       "      <td>Office Products</td>\n",
       "      <td>60.0k</td>\n",
       "      <td>49.6k</td>\n",
       "      <td>🔴</td>\n",
       "    </tr>\n",
       "    <tr>\n",
       "      <th>12</th>\n",
       "      <td>Tools_Home Improvement</td>\n",
       "      <td>29.6k</td>\n",
       "      <td>21.7k</td>\n",
       "      <td>🟢</td>\n",
       "    </tr>\n",
       "    <tr>\n",
       "      <th>13</th>\n",
       "      <td>Grand Total</td>\n",
       "      <td>6,998.9k</td>\n",
       "      <td>5,270.1k</td>\n",
       "      <td>🟡</td>\n",
       "    </tr>\n",
       "  </tbody>\n",
       "</table>\n",
       "</div>"
      ],
      "text/plain": [
       "                  Sub-Category   Revenue      Cost PM Tracker\n",
       "0                   Television  2,001.3k  1,539.0k          🟡\n",
       "1                Mobile Phones  1,224.4k    913.6k          🟢\n",
       "2       Telephones_Accessories    894.7k    679.3k          🟡\n",
       "3                 Home_Kitchen    887.2k    662.9k          🟢\n",
       "4         Accessories_Supplies    471.8k    340.5k          🟢\n",
       "5   Laptop_Desktop accessories    441.1k    328.1k          🟢\n",
       "6          Wearable Technology    253.0k    191.6k          🟡\n",
       "7                   Home Audio    218.4k    159.7k          🟢\n",
       "8                    Furniture    182.9k    136.4k          🟢\n",
       "9                   Headphones    178.3k    131.8k          🟢\n",
       "10         Radios_Transceivers    156.4k    115.8k          🟢\n",
       "11             Office Products     60.0k     49.6k          🔴\n",
       "12      Tools_Home Improvement     29.6k     21.7k          🟢\n",
       "13                 Grand Total  6,998.9k  5,270.1k          🟡"
      ]
     },
     "execution_count": 64,
     "metadata": {},
     "output_type": "execute_result"
    }
   ],
   "source": [
    "sub_category_df[\"PM Tracker\"] = sub_category_df[\"PM Tracker\"].apply(lambda x: '🔴' if x<0.2\n",
    "else '🟡' if x<0.25\n",
    "else '🟢')\n",
    "\n",
    "sub_category_df"
   ]
  },
  {
   "cell_type": "code",
   "execution_count": 65,
   "metadata": {},
   "outputs": [],
   "source": [
    "# def red_circle(v, props=\"\"):\n",
    "#     return props if v <0.2 else None\n",
    "\n",
    "\n",
    "# sub_category_df[[\"PM Tracker\"]] = sub_category_df[[\"PM Tracker\"]].style.applymap(red_circle,\n",
    "#  props=\"height: 25px; width: 25px; background-color: #c85533; border-radius: 50%;\")\n",
    "\n",
    "\n",
    "# sub_category_df"
   ]
  },
  {
   "cell_type": "code",
   "execution_count": 66,
   "metadata": {},
   "outputs": [],
   "source": [
    "\n",
    "ghana_geo = pd.read_json(\"../data/ghana_regions.json\")\n",
    "ghana_geo = ghana_geo[\"features\"]\n",
    "#ghana_geo"
   ]
  },
  {
   "cell_type": "code",
   "execution_count": 67,
   "metadata": {},
   "outputs": [],
   "source": [
    "import plotly.express as px\n",
    "fig = px.choropleth(regions_df, geojson=ghana_geo, scope=\"africa\", labels=\"Profit\",locations=\"Region\")\n",
    "#fig.show()"
   ]
  },
  {
   "cell_type": "code",
   "execution_count": 68,
   "metadata": {},
   "outputs": [],
   "source": [
    "#ghana_geo[0]"
   ]
  },
  {
   "cell_type": "code",
   "execution_count": 69,
   "metadata": {},
   "outputs": [],
   "source": [
    "regions_geo = []\n",
    "for region in ghana_geo:\n",
    "    region_name = region[\"properties\"]['NAME_1']\n",
    "    geometry = region[\"geometry\"]\n",
    "    regions_geo.append({\"type\":\"Feature\", \n",
    "                        \"geometry\":geometry,\n",
    "                        \"id\":region_name})\n",
    "#regions_geo[0]"
   ]
  },
  {
   "cell_type": "code",
   "execution_count": 70,
   "metadata": {},
   "outputs": [],
   "source": [
    "regions_geo_full = {\"type\":\"Feature Collection\", \"features\":regions_geo}"
   ]
  },
  {
   "cell_type": "code",
   "execution_count": 71,
   "metadata": {},
   "outputs": [],
   "source": [
    "# fig = px.choropleth(regions_df, \n",
    "# geojson = regions_geo_full,\n",
    "# color = regions_df[\"Profit\"])\n",
    "\n",
    "# fig.update_layout(\n",
    "#     margin={'r':0,'t':0,'l':0,'b':0},\n",
    "#     coloraxis_colorbar={\n",
    "#         'title':'Profit per region',\n",
    "#         'tickvals':regions_df[\"Profit\"]     \n",
    "#     }\n",
    "# )\n",
    "# fig.show()"
   ]
  },
  {
   "cell_type": "code",
   "execution_count": 72,
   "metadata": {},
   "outputs": [],
   "source": [
    "def create_date_table(start='2018-01-01', end='2019-12-31'):\n",
    "    date_df = pd.DataFrame({\"Date\": pd.date_range(start, end)})\n",
    "    date_df[\"Day\"] = date_df.Date.dt.day\n",
    "    date_df[\"Month\"] = date_df.Date.dt.month\n",
    "    date_df[\"Month\"] = date_df[\"Month\"].apply(lambda x: calendar.month_abbr[x])\n",
    "    date_df[\"Quarter\"] = date_df.Date.dt.quarter\n",
    "    date_df[\"Year\"] = date_df.Date.dt.year\n",
    "    return date_df\n",
    "\n",
    "#create_date_table()"
   ]
  },
  {
   "cell_type": "code",
   "execution_count": 73,
   "metadata": {},
   "outputs": [
    {
     "data": {
      "text/plain": [
       "int"
      ]
     },
     "execution_count": 73,
     "metadata": {},
     "output_type": "execute_result"
    }
   ],
   "source": [
    "date_df = create_date_table()\n",
    "date_df = date_df[date_df[\"Year\"].isin([2019])]\n",
    "date_df = date_df[\"Day\"]\n",
    "type(int(np.asarray(date_df.min())))"
   ]
  },
  {
   "cell_type": "code",
   "execution_count": 74,
   "metadata": {},
   "outputs": [
    {
     "data": {
      "text/plain": [
       "'Months'"
      ]
     },
     "execution_count": 74,
     "metadata": {},
     "output_type": "execute_result"
    }
   ],
   "source": [
    "\"\".join([\"Months\"])"
   ]
  },
  {
   "cell_type": "code",
   "execution_count": 75,
   "metadata": {},
   "outputs": [
    {
     "data": {
      "text/plain": [
       "'1,728,794'"
      ]
     },
     "execution_count": 75,
     "metadata": {},
     "output_type": "execute_result"
    }
   ],
   "source": [
    "df[\"Years\"] = df[\"Delivery Date\"].dt.year\n",
    "df[\"Months\"] = df[\"Delivery Date\"].dt.month\n",
    "df[\"Quarters\"] = df[\"Delivery Date\"].dt.quarter\n",
    "df[\"Days\"] = df[\"Delivery Date\"].dt.day\n",
    "\n",
    "period = \"\".join([\"Months\"])\n",
    "df = df[df[\"Years\"].isin([2018, 2019])]\n",
    "df = df[df[period].isin([1, 2, 3, 4, 5, 6, 7, 8, 9, 10, 11, 12])]\n",
    "\n",
    "profit = df[\"Profit\"]\n",
    "profit = \"{:,}\".format(profit.sum())\n",
    "profit"
   ]
  },
  {
   "cell_type": "code",
   "execution_count": 76,
   "metadata": {},
   "outputs": [],
   "source": [
    "dict_ = df.to_dict(\"series\")\n",
    "#dict_"
   ]
  },
  {
   "cell_type": "code",
   "execution_count": 77,
   "metadata": {},
   "outputs": [],
   "source": [
    "df1 = pd.DataFrame(dict_)\n",
    "#df1"
   ]
  },
  {
   "cell_type": "code",
   "execution_count": null,
   "metadata": {},
   "outputs": [],
   "source": []
  }
 ],
 "metadata": {
  "interpreter": {
   "hash": "7d3e4e61b99b225eb481120d01e23669fe822aac46b693e91ba5b5410f264801"
  },
  "kernelspec": {
   "display_name": "Python 3.9.7 64-bit ('sales-env': venv)",
   "name": "python3"
  },
  "language_info": {
   "codemirror_mode": {
    "name": "ipython",
    "version": 3
   },
   "file_extension": ".py",
   "mimetype": "text/x-python",
   "name": "python",
   "nbconvert_exporter": "python",
   "pygments_lexer": "ipython3",
   "version": "3.9.7"
  },
  "orig_nbformat": 4
 },
 "nbformat": 4,
 "nbformat_minor": 2
}
